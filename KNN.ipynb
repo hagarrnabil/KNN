{
  "nbformat": 4,
  "nbformat_minor": 0,
  "metadata": {
    "colab": {
      "provenance": [],
      "collapsed_sections": []
    },
    "kernelspec": {
      "name": "python3",
      "display_name": "Python 3"
    },
    "language_info": {
      "name": "python"
    }
  },
  "cells": [
    {
      "cell_type": "code",
      "source": [
        "import numpy as np\n",
        "import os\n",
        "import cv2\n",
        "from scipy.stats import mode\n",
        "from sklearn.metrics import accuracy_score\n",
        "from numpy.random import randint\n",
        "from sklearn.model_selection import train_test_split"
      ],
      "metadata": {
        "id": "pjjOSefz_B5u"
      },
      "execution_count": null,
      "outputs": []
    },
    {
      "cell_type": "code",
      "source": [
        "def eucledian(p1,p2):\n",
        "    dist = np.sqrt(np.sum((p1-p2)**2))\n",
        "    return dist"
      ],
      "metadata": {
        "id": "bI4WXPnDAKO_"
      },
      "execution_count": null,
      "outputs": []
    },
    {
      "cell_type": "code",
      "source": [
        "def predict(x_train, y , x_input, k):\n",
        "    op_labels = []\n",
        "     \n",
        "    #Loop through the Datapoints to be classified\n",
        "    for item in x_input: \n",
        "         \n",
        "        #Array to store distances\n",
        "        point_dist = []\n",
        "         \n",
        "        #Loop through each training Data\n",
        "        for j in range(len(x_train)): \n",
        "            distances = eucledian(np.array(x_train[j,:]) , item) \n",
        "            #Calculating the distance\n",
        "            point_dist.append(distances) \n",
        "        point_dist = np.array(point_dist) \n",
        "         \n",
        "        #Sorting the array while preserving the index\n",
        "        #Keeping the first K datapoints\n",
        "        dist = np.argsort(point_dist)[:k] \n",
        "         \n",
        "        #Labels of the K datapoints from above\n",
        "        labels = y[dist]\n",
        "         \n",
        "        #Majority voting\n",
        "        lab = mode(labels) \n",
        "        lab = lab.mode[0]\n",
        "        op_labels.append(lab)\n",
        " \n",
        "    return op_labels"
      ],
      "metadata": {
        "id": "UNPFdqId42Ch"
      },
      "execution_count": null,
      "outputs": []
    },
    {
      "cell_type": "code",
      "source": [
        "!unzip \"/content/Smile Detection.zip\""
      ],
      "metadata": {
        "id": "uqoEhVUf5t2D"
      },
      "execution_count": null,
      "outputs": []
    },
    {
      "cell_type": "code",
      "source": [
        "images = []\n",
        "rootdir = '/content/Smile Detection'\n",
        "for subdir, dirs, files in os.walk(rootdir):\n",
        "    for file in files:\n",
        "      imgPath = os.path.join(subdir, file)\n",
        "      img = cv2.imread(imgPath, 1) \n",
        "      images.append(img)\n",
        "\n",
        "\n",
        "X = np.array(images)"
      ],
      "metadata": {
        "id": "yKeqDZ2N661W"
      },
      "execution_count": null,
      "outputs": []
    },
    {
      "cell_type": "code",
      "source": [
        "X.shape"
      ],
      "metadata": {
        "colab": {
          "base_uri": "https://localhost:8080/"
        },
        "id": "K1xNCN2S7M5h",
        "outputId": "4dccd989-d3f3-404f-ecaf-b1a5c3cf3643"
      },
      "execution_count": null,
      "outputs": [
        {
          "output_type": "execute_result",
          "data": {
            "text/plain": [
              "(13165, 64, 64, 3)"
            ]
          },
          "metadata": {},
          "execution_count": 31
        }
      ]
    },
    {
      "cell_type": "code",
      "source": [
        "temp1 = [0]*9475\n",
        "temp2 = [1]*3690\n",
        "temp1.extend(temp2)\n",
        "y = temp1"
      ],
      "metadata": {
        "id": "3pAZMn6x7nIT"
      },
      "execution_count": null,
      "outputs": []
    },
    {
      "cell_type": "code",
      "source": [
        "y = np.array(y)"
      ],
      "metadata": {
        "id": "zFZj4NFg_bsI"
      },
      "execution_count": null,
      "outputs": []
    },
    {
      "cell_type": "code",
      "source": [
        "y.shape"
      ],
      "metadata": {
        "colab": {
          "base_uri": "https://localhost:8080/"
        },
        "id": "cYWBQL2h8M9_",
        "outputId": "2491595c-9722-4aab-aece-8f7c58beff89"
      },
      "execution_count": null,
      "outputs": [
        {
          "output_type": "execute_result",
          "data": {
            "text/plain": [
              "(13165,)"
            ]
          },
          "metadata": {},
          "execution_count": 39
        }
      ]
    },
    {
      "cell_type": "code",
      "source": [
        "X_train, X_test, y_train, y_test = train_test_split(X, y, test_size=0.33, random_state=42)"
      ],
      "metadata": {
        "id": "KmykQs2b-bdp"
      },
      "execution_count": null,
      "outputs": []
    },
    {
      "cell_type": "code",
      "source": [
        "y_pred = predict(X_train,y_train,X_test , 7)"
      ],
      "metadata": {
        "id": "nwy2kOvK5RC5"
      },
      "execution_count": null,
      "outputs": []
    },
    {
      "cell_type": "code",
      "source": [
        "accuracy_score(y_test, y_pred)"
      ],
      "metadata": {
        "colab": {
          "base_uri": "https://localhost:8080/"
        },
        "id": "33B895__5S6q",
        "outputId": "3fe978f3-18bf-4683-d443-e8397e5e9a04"
      },
      "execution_count": null,
      "outputs": [
        {
          "output_type": "execute_result",
          "data": {
            "text/plain": [
              "0.7861910241657077"
            ]
          },
          "metadata": {},
          "execution_count": 42
        }
      ]
    }
  ]
}